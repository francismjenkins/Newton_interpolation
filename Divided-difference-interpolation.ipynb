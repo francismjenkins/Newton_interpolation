{
 "cells": [
  {
   "cell_type": "code",
   "execution_count": 5,
   "metadata": {},
   "outputs": [
    {
     "name": "stdout",
     "output_type": "stream",
     "text": [
      "f(2.8) =  15.534914285714287\n"
     ]
    }
   ],
   "source": [
    "#!/usr/bin/env python \n",
    "# Newton's (divided difference) polynomial interpolation \n",
    "# Author: Frank Jenkins\n",
    "# Portions of code adapted from:\n",
    "# Chapra & Canale, Numerical Methods for Engineers, Sixth Edition, McGraw Hill, 2010 (pseudocode & general scheme).\n",
    "# Numerical Methods in Engineering with Python-3, J. Kiusalass, Cambridge Univ. Press, 2013.\n",
    "\n",
    "\n",
    "x = [1.6, 2, 2.5, 3.2, 4, 4.5]\n",
    "y = [2, 8, 14, 15, 8, 2]\n",
    "e = []\n",
    "r = 2.8\n",
    "# newton function computes interpolated polynomial coefficients using the divided difference method.\n",
    "# usage: a = newton(x,y) ... where x and y are vectors of our points \n",
    "\t\n",
    "def newton(x, y):   \n",
    "\n",
    "    n = len(x) - 1\n",
    "    a = y.copy()\n",
    "\n",
    "    for i in range(1, n + 1):\n",
    "        for j in range(n, i - 1, -1):\n",
    "            a[j] = float(a[j] - a[j-1])/float(x[j] - x[j-i])\n",
    "            \n",
    "    return a\n",
    "\n",
    "# eval function will evaluate the function at f(r) using the divided difference method\n",
    "# usage: b = eval(r, x, a) ... where r = the point (on the x-axis) being evaluated [in this case, f(2.8)], \n",
    "# and a = return values (coefficients for our 5th degree polynomial) from the newton function.\n",
    "\n",
    "def Eval(r, x, a):\n",
    "\n",
    "\n",
    "    n = len(a) - 1 \n",
    "    b = a[n] \n",
    "    for i in range(n - 1, -1, -1):\n",
    "        b = b * (r - x[i]) + a[i] # evaluate f(r) \n",
    "    return b\n",
    "\n",
    "b = Eval(r, x, a)\n",
    "\n",
    "print(\"f(2.8) = \", b) \n"
   ]
  },
  {
   "cell_type": "code",
   "execution_count": null,
   "metadata": {},
   "outputs": [],
   "source": []
  }
 ],
 "metadata": {
  "kernelspec": {
   "display_name": "Python 3",
   "language": "python",
   "name": "python3"
  },
  "language_info": {
   "codemirror_mode": {
    "name": "ipython",
    "version": 3
   },
   "file_extension": ".py",
   "mimetype": "text/x-python",
   "name": "python",
   "nbconvert_exporter": "python",
   "pygments_lexer": "ipython3",
   "version": "3.6.5"
  }
 },
 "nbformat": 4,
 "nbformat_minor": 2
}
