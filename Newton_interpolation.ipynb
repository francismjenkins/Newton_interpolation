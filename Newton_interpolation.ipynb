{
 "cells": [
  {
   "cell_type": "code",
   "execution_count": 19,
   "metadata": {},
   "outputs": [
    {
     "name": "stdout",
     "output_type": "stream",
     "text": [
      "f(2.8) =  15.534914285714287\n",
      "The coefficients of f(x):  [2, 15.000000000000004, -3.3333333333333375, -3.4226190476190443, 1.8477182539682522, -0.48115079365079266]\n"
     ]
    }
   ],
   "source": [
    "#!/usr/bin/env python \n",
    "# Newton's (divided difference) polynomial interpolation \n",
    "# Author: Frank Jenkins\n",
    "\n",
    "from pylab import *\n",
    "\n",
    "x = [1.6, 2, 2.5, 3.2, 4, 4.5]\n",
    "y = [2, 8, 14, 15, 8, 2]\n",
    "e = []\n",
    "r = 2.8\n",
    "# newton function computes interpolated polynomial coefficients using the divided difference method.\n",
    "# usage: a = newton(x,y)\n",
    "\t\n",
    "def newton( x, y ):\n",
    "    \n",
    "\n",
    "    sx = shape(x)\n",
    "    sy = shape(y)\n",
    "\n",
    "    if max(sx) != max(sy):\n",
    "        print(\"x and y vectors must be equal length\")\n",
    "        return\n",
    "    elif len(sx) != 1 or len(sy) != 1:\n",
    "        print(\"x and y values cannot be stored in matrices\")\n",
    "        return\n",
    "\n",
    "    n = max(sx) - 1\n",
    "    a = y.copy()\n",
    "\n",
    "    for i in range(1, n + 1):\n",
    "        for j in range(n, i - 1, -1):\n",
    "            a[j] = float(a[j] - a[j-1])/float(x[j] - x[j-i])\n",
    "            # for k in range(n):   \n",
    "                # e[k] = float(a[k])*float(x[k] - r) example of error calculation\n",
    "\n",
    "    return a\n",
    "\n",
    "# eval function will evaluate the function at f(r) using the divided difference method\n",
    "def eval(r, x, a):\n",
    "\n",
    "\n",
    "    n = len(a) - 1\n",
    "    b = a[n]\n",
    "    for i in range(n - 1, -1, -1):\n",
    "        b = b * (r - x[i]) + a[i]\n",
    "    return b\n",
    "\n",
    "a = newton(x, y)\n",
    "b = eval(r, x, a)\n",
    "\n",
    "print(\"f(2.8) = \", b)\n",
    "\n",
    "print(\"The coefficients of f(x): \", a)"
   ]
  },
  {
   "cell_type": "code",
   "execution_count": null,
   "metadata": {},
   "outputs": [],
   "source": []
  }
 ],
 "metadata": {
  "kernelspec": {
   "display_name": "Python 3",
   "language": "python",
   "name": "python3"
  },
  "language_info": {
   "codemirror_mode": {
    "name": "ipython",
    "version": 3
   },
   "file_extension": ".py",
   "mimetype": "text/x-python",
   "name": "python",
   "nbconvert_exporter": "python",
   "pygments_lexer": "ipython3",
   "version": "3.6.5"
  }
 },
 "nbformat": 4,
 "nbformat_minor": 2
}
